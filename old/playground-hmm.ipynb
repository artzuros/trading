{
 "cells": [
  {
   "cell_type": "code",
   "execution_count": 1,
   "metadata": {},
   "outputs": [
    {
     "name": "stdout",
     "output_type": "stream",
     "text": [
      "Using device: cuda\n"
     ]
    }
   ],
   "source": [
    "import torch\n",
    "import torch.nn as nn\n",
    "import torch.optim as optim\n",
    "import random\n",
    "import numpy as np\n",
    "from collections import deque\n",
    "import yfinance as yf\n",
    "import pandas as pd\n",
    "\n",
    "# Check for GPU availability\n",
    "device = torch.device(\"cuda\" if torch.cuda.is_available() else \"cpu\")\n",
    "print(f\"Using device: {device}\")"
   ]
  },
  {
   "cell_type": "code",
   "execution_count": 2,
   "metadata": {},
   "outputs": [],
   "source": [
    "def get_stock_data(path):\n",
    "    df = pd.read_csv(path)\n",
    "    df = df[['Open', 'High', 'Low', 'Close', 'Volume']].dropna()\n",
    "    return df"
   ]
  },
  {
   "cell_type": "code",
   "execution_count": 3,
   "metadata": {},
   "outputs": [],
   "source": [
    "from hmmlearn import hmm\n",
    "from backtesting import Backtest, Strategy\n",
    "\n",
    "# Load historical stock data\n",
    "df = get_stock_data(\"/home/artzuros/Documents/CS/Trader/trading/data/INDEX/NIFTY 50.csv\")"
   ]
  },
  {
   "cell_type": "code",
   "execution_count": 4,
   "metadata": {},
   "outputs": [],
   "source": [
    "df['LogReturn'] = np.log(df['Close'] / df['Close'].shift(1)).dropna()\n",
    "X = df[['LogReturn']].dropna().values "
   ]
  },
  {
   "cell_type": "code",
   "execution_count": 5,
   "metadata": {},
   "outputs": [
    {
     "name": "stdout",
     "output_type": "stream",
     "text": [
      "Inferred Hidden States:\n",
      "       Close  State\n",
      "1413  939.55    NaN\n",
      "1414  927.05    0.0\n",
      "1415  931.65    0.0\n",
      "1416  927.80    0.0\n",
      "1417  928.80    0.0\n",
      "1418  946.70    0.0\n",
      "1419  956.60    0.0\n",
      "1420  980.35    0.0\n",
      "1421  980.70    0.0\n",
      "1422  989.30    0.0\n"
     ]
    }
   ],
   "source": [
    "n_states = 3  # Number of hidden states (regimes)\n",
    "model = hmm.GaussianHMM(n_components=n_states, covariance_type=\"full\", n_iter=100)\n",
    "model.fit(X)\n",
    "\n",
    "# Predict hidden states (market regimes) based on the log returns\n",
    "hidden_states = model.predict(X)\n",
    "df['State'] = np.concatenate(([np.nan], hidden_states))  # Add NaN for the first row\n",
    "\n",
    "# Display the inferred hidden states\n",
    "print(\"Inferred Hidden States:\")\n",
    "print(df[['Close', 'State']].head(10))"
   ]
  },
  {
   "cell_type": "code",
   "execution_count": 8,
   "metadata": {},
   "outputs": [
    {
     "data": {
      "text/html": [
       "<div>\n",
       "<style scoped>\n",
       "    .dataframe tbody tr th:only-of-type {\n",
       "        vertical-align: middle;\n",
       "    }\n",
       "\n",
       "    .dataframe tbody tr th {\n",
       "        vertical-align: top;\n",
       "    }\n",
       "\n",
       "    .dataframe thead th {\n",
       "        text-align: right;\n",
       "    }\n",
       "</style>\n",
       "<table border=\"1\" class=\"dataframe\">\n",
       "  <thead>\n",
       "    <tr style=\"text-align: right;\">\n",
       "      <th></th>\n",
       "      <th>Open</th>\n",
       "      <th>High</th>\n",
       "      <th>Low</th>\n",
       "      <th>Close</th>\n",
       "      <th>Volume</th>\n",
       "      <th>LogReturn</th>\n",
       "      <th>State</th>\n",
       "    </tr>\n",
       "  </thead>\n",
       "  <tbody>\n",
       "    <tr>\n",
       "      <th>7505</th>\n",
       "      <td>15839.35</td>\n",
       "      <td>15870.80</td>\n",
       "      <td>15772.30</td>\n",
       "      <td>15860.35</td>\n",
       "      <td>314614380.0</td>\n",
       "      <td>0.004417</td>\n",
       "      <td>1.0</td>\n",
       "    </tr>\n",
       "    <tr>\n",
       "      <th>7506</th>\n",
       "      <td>15915.35</td>\n",
       "      <td>15915.65</td>\n",
       "      <td>15792.15</td>\n",
       "      <td>15814.70</td>\n",
       "      <td>255099272.0</td>\n",
       "      <td>-0.002882</td>\n",
       "      <td>1.0</td>\n",
       "    </tr>\n",
       "    <tr>\n",
       "      <th>7507</th>\n",
       "      <td>15807.50</td>\n",
       "      <td>15835.90</td>\n",
       "      <td>15724.05</td>\n",
       "      <td>15748.45</td>\n",
       "      <td>360334724.0</td>\n",
       "      <td>-0.004198</td>\n",
       "      <td>1.0</td>\n",
       "    </tr>\n",
       "    <tr>\n",
       "      <th>7508</th>\n",
       "      <td>15776.90</td>\n",
       "      <td>15839.10</td>\n",
       "      <td>15708.75</td>\n",
       "      <td>15721.50</td>\n",
       "      <td>262386323.0</td>\n",
       "      <td>-0.001713</td>\n",
       "      <td>1.0</td>\n",
       "    </tr>\n",
       "    <tr>\n",
       "      <th>7509</th>\n",
       "      <td>15755.05</td>\n",
       "      <td>15755.55</td>\n",
       "      <td>15667.05</td>\n",
       "      <td>15680.00</td>\n",
       "      <td>224921644.0</td>\n",
       "      <td>-0.002643</td>\n",
       "      <td>1.0</td>\n",
       "    </tr>\n",
       "  </tbody>\n",
       "</table>\n",
       "</div>"
      ],
      "text/plain": [
       "          Open      High       Low     Close       Volume  LogReturn  State\n",
       "7505  15839.35  15870.80  15772.30  15860.35  314614380.0   0.004417    1.0\n",
       "7506  15915.35  15915.65  15792.15  15814.70  255099272.0  -0.002882    1.0\n",
       "7507  15807.50  15835.90  15724.05  15748.45  360334724.0  -0.004198    1.0\n",
       "7508  15776.90  15839.10  15708.75  15721.50  262386323.0  -0.001713    1.0\n",
       "7509  15755.05  15755.55  15667.05  15680.00  224921644.0  -0.002643    1.0"
      ]
     },
     "execution_count": 8,
     "metadata": {},
     "output_type": "execute_result"
    }
   ],
   "source": [
    "df.tail()"
   ]
  },
  {
   "cell_type": "code",
   "execution_count": null,
   "metadata": {},
   "outputs": [
    {
     "name": "stderr",
     "output_type": "stream",
     "text": [
      "/home/artzuros/miniconda3/envs/trader/lib/python3.10/site-packages/backtesting/backtesting.py:1095: FutureWarning: Index.is_numeric is deprecated. Use pandas.api.types.is_any_real_numeric_dtype instead\n",
      "  (data.index.is_numeric() and\n",
      "/tmp/ipykernel_15641/506731803.py:22: UserWarning: Data index is not datetime. Assuming simple periods, but `pd.DateTimeIndex` is advised.\n",
      "  bt = Backtest(df, HMMStrategy, cash=100000, commission=0.002)\n"
     ]
    },
    {
     "name": "stdout",
     "output_type": "stream",
     "text": [
      "Start                                  1413.0\n",
      "End                                    7509.0\n",
      "Duration                               6096.0\n",
      "Exposure Time [%]                   98.638675\n",
      "Equity Final [$]                 1481785.3172\n",
      "Equity Peak [$]                  1492520.1172\n",
      "Return [%]                        1381.785317\n",
      "Buy & Hold Return [%]              1568.88404\n",
      "Return (Ann.) [%]                         0.0\n",
      "Volatility (Ann.) [%]                     NaN\n",
      "Sharpe Ratio                              NaN\n",
      "Sortino Ratio                             NaN\n",
      "Calmar Ratio                              0.0\n",
      "Max. Drawdown [%]                  -59.773935\n",
      "Avg. Drawdown [%]                   -3.892167\n",
      "Max. Drawdown Duration                  966.0\n",
      "Avg. Drawdown Duration              33.730994\n",
      "# Trades                                  1.0\n",
      "Win Rate [%]                            100.0\n",
      "Best Trade [%]                    1393.077846\n",
      "Worst Trade [%]                   1393.077846\n",
      "Avg. Trade [%]                    1393.077846\n",
      "Max. Trade Duration                    6013.0\n",
      "Avg. Trade Duration                    6013.0\n",
      "Profit Factor                             NaN\n",
      "Expectancy [%]                    1393.077846\n",
      "SQN                                       NaN\n",
      "Kelly Criterion                           NaN\n",
      "_strategy                         HMMStrategy\n",
      "_equity_curve                         Equi...\n",
      "_trades                      Size  EntryBa...\n",
      "dtype: object\n"
     ]
    },
    {
     "data": {
      "text/html": [
       "<div style=\"display: table;\"><div style=\"display: table-row;\"><div style=\"display: table-cell;\"><b title=\"bokeh.models.plots.GridPlot\">GridPlot</b>(</div><div style=\"display: table-cell;\">id&nbsp;=&nbsp;'p1294', <span id=\"p1316\" style=\"cursor: pointer;\">&hellip;)</span></div></div><div class=\"p1315\" style=\"display: none;\"><div style=\"display: table-cell;\"></div><div style=\"display: table-cell;\">align&nbsp;=&nbsp;'auto',</div></div><div class=\"p1315\" style=\"display: none;\"><div style=\"display: table-cell;\"></div><div style=\"display: table-cell;\">aspect_ratio&nbsp;=&nbsp;None,</div></div><div class=\"p1315\" style=\"display: none;\"><div style=\"display: table-cell;\"></div><div style=\"display: table-cell;\">children&nbsp;=&nbsp;[(figure(id='p1046', ...), 0, 0), (figure(id='p1145', ...), 1, 0), (figure(id='p1002', ...), 2, 0), (figure(id='p1202', ...), 3, 0)],</div></div><div class=\"p1315\" style=\"display: none;\"><div style=\"display: table-cell;\"></div><div style=\"display: table-cell;\">cols&nbsp;=&nbsp;None,</div></div><div class=\"p1315\" style=\"display: none;\"><div style=\"display: table-cell;\"></div><div style=\"display: table-cell;\">context_menu&nbsp;=&nbsp;None,</div></div><div class=\"p1315\" style=\"display: none;\"><div style=\"display: table-cell;\"></div><div style=\"display: table-cell;\">css_classes&nbsp;=&nbsp;[],</div></div><div class=\"p1315\" style=\"display: none;\"><div style=\"display: table-cell;\"></div><div style=\"display: table-cell;\">css_variables&nbsp;=&nbsp;{},</div></div><div class=\"p1315\" style=\"display: none;\"><div style=\"display: table-cell;\"></div><div style=\"display: table-cell;\">disabled&nbsp;=&nbsp;False,</div></div><div class=\"p1315\" style=\"display: none;\"><div style=\"display: table-cell;\"></div><div style=\"display: table-cell;\">elements&nbsp;=&nbsp;[],</div></div><div class=\"p1315\" style=\"display: none;\"><div style=\"display: table-cell;\"></div><div style=\"display: table-cell;\">flow_mode&nbsp;=&nbsp;'block',</div></div><div class=\"p1315\" style=\"display: none;\"><div style=\"display: table-cell;\"></div><div style=\"display: table-cell;\">height&nbsp;=&nbsp;None,</div></div><div class=\"p1315\" style=\"display: none;\"><div style=\"display: table-cell;\"></div><div style=\"display: table-cell;\">height_policy&nbsp;=&nbsp;'auto',</div></div><div class=\"p1315\" style=\"display: none;\"><div style=\"display: table-cell;\"></div><div style=\"display: table-cell;\">js_event_callbacks&nbsp;=&nbsp;{},</div></div><div class=\"p1315\" style=\"display: none;\"><div style=\"display: table-cell;\"></div><div style=\"display: table-cell;\">js_property_callbacks&nbsp;=&nbsp;{},</div></div><div class=\"p1315\" style=\"display: none;\"><div style=\"display: table-cell;\"></div><div style=\"display: table-cell;\">margin&nbsp;=&nbsp;None,</div></div><div class=\"p1315\" style=\"display: none;\"><div style=\"display: table-cell;\"></div><div style=\"display: table-cell;\">max_height&nbsp;=&nbsp;None,</div></div><div class=\"p1315\" style=\"display: none;\"><div style=\"display: table-cell;\"></div><div style=\"display: table-cell;\">max_width&nbsp;=&nbsp;None,</div></div><div class=\"p1315\" style=\"display: none;\"><div style=\"display: table-cell;\"></div><div style=\"display: table-cell;\">min_height&nbsp;=&nbsp;None,</div></div><div class=\"p1315\" style=\"display: none;\"><div style=\"display: table-cell;\"></div><div style=\"display: table-cell;\">min_width&nbsp;=&nbsp;None,</div></div><div class=\"p1315\" style=\"display: none;\"><div style=\"display: table-cell;\"></div><div style=\"display: table-cell;\">name&nbsp;=&nbsp;None,</div></div><div class=\"p1315\" style=\"display: none;\"><div style=\"display: table-cell;\"></div><div style=\"display: table-cell;\">resizable&nbsp;=&nbsp;False,</div></div><div class=\"p1315\" style=\"display: none;\"><div style=\"display: table-cell;\"></div><div style=\"display: table-cell;\">rows&nbsp;=&nbsp;None,</div></div><div class=\"p1315\" style=\"display: none;\"><div style=\"display: table-cell;\"></div><div style=\"display: table-cell;\">sizing_mode&nbsp;=&nbsp;'stretch_width',</div></div><div class=\"p1315\" style=\"display: none;\"><div style=\"display: table-cell;\"></div><div style=\"display: table-cell;\">spacing&nbsp;=&nbsp;0,</div></div><div class=\"p1315\" style=\"display: none;\"><div style=\"display: table-cell;\"></div><div style=\"display: table-cell;\">styles&nbsp;=&nbsp;{},</div></div><div class=\"p1315\" style=\"display: none;\"><div style=\"display: table-cell;\"></div><div style=\"display: table-cell;\">stylesheets&nbsp;=&nbsp;[],</div></div><div class=\"p1315\" style=\"display: none;\"><div style=\"display: table-cell;\"></div><div style=\"display: table-cell;\">subscribed_events&nbsp;=&nbsp;PropertyValueSet(),</div></div><div class=\"p1315\" style=\"display: none;\"><div style=\"display: table-cell;\"></div><div style=\"display: table-cell;\">syncable&nbsp;=&nbsp;True,</div></div><div class=\"p1315\" style=\"display: none;\"><div style=\"display: table-cell;\"></div><div style=\"display: table-cell;\">tags&nbsp;=&nbsp;[],</div></div><div class=\"p1315\" style=\"display: none;\"><div style=\"display: table-cell;\"></div><div style=\"display: table-cell;\">toolbar&nbsp;=&nbsp;Toolbar(id='p1293', ...),</div></div><div class=\"p1315\" style=\"display: none;\"><div style=\"display: table-cell;\"></div><div style=\"display: table-cell;\">toolbar_location&nbsp;=&nbsp;'right',</div></div><div class=\"p1315\" style=\"display: none;\"><div style=\"display: table-cell;\"></div><div style=\"display: table-cell;\">visible&nbsp;=&nbsp;True,</div></div><div class=\"p1315\" style=\"display: none;\"><div style=\"display: table-cell;\"></div><div style=\"display: table-cell;\">width&nbsp;=&nbsp;None,</div></div><div class=\"p1315\" style=\"display: none;\"><div style=\"display: table-cell;\"></div><div style=\"display: table-cell;\">width_policy&nbsp;=&nbsp;'auto')</div></div></div>\n",
       "<script>\n",
       "(function() {\n",
       "  let expanded = false;\n",
       "  const ellipsis = document.getElementById(\"p1316\");\n",
       "  ellipsis.addEventListener(\"click\", function() {\n",
       "    const rows = document.getElementsByClassName(\"p1315\");\n",
       "    for (let i = 0; i < rows.length; i++) {\n",
       "      const el = rows[i];\n",
       "      el.style.display = expanded ? \"none\" : \"table-row\";\n",
       "    }\n",
       "    ellipsis.innerHTML = expanded ? \"&hellip;)\" : \"&lsaquo;&lsaquo;&lsaquo;\";\n",
       "    expanded = !expanded;\n",
       "  });\n",
       "})();\n",
       "</script>\n"
      ],
      "text/plain": [
       "GridPlot(id='p1294', ...)"
      ]
     },
     "execution_count": 6,
     "metadata": {},
     "output_type": "execute_result"
    },
    {
     "name": "stdout",
     "output_type": "stream",
     "text": [
      "Opening in existing browser session.\n"
     ]
    }
   ],
   "source": [
    "# Define a backtest strategy based on HMM states\n",
    "class HMMStrategy(Strategy):\n",
    "    def init(self):\n",
    "        # Preload the states from the DataFrame\n",
    "        self.states = self.data.df['State'].values\n",
    "\n",
    "    def next(self):\n",
    "        # Get the current bar index\n",
    "        bar_index = len(self.data) - 1\n",
    "        \n",
    "        # Get the hidden state corresponding to the current bar index\n",
    "        current_state = self.states[bar_index]\n",
    "        \n",
    "        # Trading logic based on the inferred state\n",
    "        if current_state == 1 and not self.position:  # Bullish state - Buy if no position\n",
    "            self.buy()\n",
    "        elif current_state == 2 and self.position:  # Bearish state - Sell if in position\n",
    "            self.sell()\n",
    "        # State 0: Hold in a neutral state\n",
    "\n",
    "test_df =df[['Open', 'High', 'Low', 'Close', 'Volume']]\n",
    "\n",
    "# Run backtest with the modified HMM strategy\n",
    "bt = Backtest(df, HMMStrategy, cash=100000, commission=0.002)\n",
    "stats = bt.run()\n",
    "print(stats)\n",
    "bt.plot()"
   ]
  },
  {
   "cell_type": "code",
   "execution_count": null,
   "metadata": {},
   "outputs": [],
   "source": []
  }
 ],
 "metadata": {
  "kernelspec": {
   "display_name": "trader",
   "language": "python",
   "name": "python3"
  },
  "language_info": {
   "codemirror_mode": {
    "name": "ipython",
    "version": 3
   },
   "file_extension": ".py",
   "mimetype": "text/x-python",
   "name": "python",
   "nbconvert_exporter": "python",
   "pygments_lexer": "ipython3",
   "version": "3.10.14"
  }
 },
 "nbformat": 4,
 "nbformat_minor": 2
}
