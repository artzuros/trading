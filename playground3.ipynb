{
 "cells": [
  {
   "cell_type": "code",
   "execution_count": 2,
   "metadata": {},
   "outputs": [],
   "source": [
    "import pandas as pd\n",
    "from backtesting import Backtest, Strategy\n",
    "from gymnasium import spaces, Env\n",
    "from stable_baselines3 import PPO\n",
    "import numpy as np"
   ]
  },
  {
   "cell_type": "code",
   "execution_count": 3,
   "metadata": {},
   "outputs": [],
   "source": [
    "class periodicStrategy(Strategy):\n",
    "    def init(self):\n",
    "        print(f\"Start with equity={self.equity:.2f}\")\n",
    "        \n",
    "    def next(self, action:int|None=None):\n",
    "        print(f\"Action={action} Equity={self.equity:.2f} Date={self.data.index[-1]}\")\n",
    "        if action:\n",
    "            if action == 1:\n",
    "                self.buy()\n",
    "            elif action == 2:\n",
    "                self.position.close()\n",
    "            \n",
    "    def observation(self):\n",
    "        closes = self.data.Close[-20:]\n",
    "        closes = (closes - closes.min()) / (closes.max() - closes.min())\n",
    "        return [closes]"
   ]
  },
  {
   "cell_type": "code",
   "execution_count": 4,
   "metadata": {},
   "outputs": [],
   "source": [
    "class CustomEnv(Env):\n",
    "    \"\"\"Custom Environment that follows gym interface.\"\"\"\n",
    "\n",
    "    def __init__(self, bt: Backtest):\n",
    "        # observation (1,20) = (close price, 20 back days)\n",
    "        self.observation_space = spaces.Box(low=-1, high=1, shape=(1, 20), dtype=np.float32)\n",
    "        # action -1 sell all shares, 1 buy all shares for 1 crypto\n",
    "        self.action_space = spaces.Discrete(3)\n",
    "        self.bt = bt\n",
    "        \n",
    "    def reward_calculation(self):\n",
    "        if self.previous_equity < self.bt._step_strategy.equity:\n",
    "            return +1\n",
    "        return -1\n",
    "        \n",
    "    def check_done(self):\n",
    "        if self.bt._step_time + 2 > len(self.bt._data):\n",
    "            self.render()\n",
    "            return True\n",
    "        return False\n",
    "        \n",
    "    def step(self, action):\n",
    "        obs = self.bt._step_strategy.observation()\n",
    "        reward = self.reward_calculation()\n",
    "        done = self.check_done()\n",
    "        info = {}\n",
    "        self.bt.next(action=action)\n",
    "        # False is done (never finish because the market can not finish)\n",
    "        # done is the truncate (the market can be truncated)\n",
    "        return obs, reward, False, done, info\n",
    "\n",
    "    def reset_backtesting(self):\n",
    "        # backtesting, give first next because when initialize can return the whole dataset\n",
    "        self.bt.initialize()\n",
    "        self.bt.next()\n",
    "        while True:\n",
    "            obs = self.bt._step_strategy.observation()\n",
    "            if np.shape(obs) == (1,20):\n",
    "                break\n",
    "            self.bt.next()\n",
    "                \n",
    "    def reset(self, seed=None):\n",
    "        self.previous_equity = 10\n",
    "        self.reset_backtesting()\n",
    "        return self.bt._step_strategy.observation(), {}\n",
    "\n",
    "    def render(self, mode='human'):\n",
    "        result = self.bt.next(done=True)\n",
    "        self.bt.plot(results=result, open_browser=False)\n",
    "        \n",
    "    def close(self):\n",
    "        pass"
   ]
  },
  {
   "cell_type": "code",
   "execution_count": 5,
   "metadata": {},
   "outputs": [
    {
     "name": "stdout",
     "output_type": "stream",
     "text": [
      "                                 Open        High         Low       Close  \\\n",
      "Date                                                                        \n",
      "2023-11-21 00:00:00-05:00  137.602069  138.624552  137.367644  138.280396   \n",
      "2023-11-22 00:00:00-05:00  138.759227  140.754327  138.659466  139.676971   \n",
      "2023-11-24 00:00:00-05:00  139.198136  139.334809  137.133216  137.881378   \n",
      "2023-11-27 00:00:00-05:00  137.232987  139.287938  137.203047  137.711807   \n",
      "2023-11-28 00:00:00-05:00  137.292831  138.320306  136.704264  138.280396   \n",
      "...                               ...         ...         ...         ...   \n",
      "2024-11-14 00:00:00-05:00  179.750000  180.445007  176.029999  177.350006   \n",
      "2024-11-15 00:00:00-05:00  175.639999  175.880005  172.744995  173.889999   \n",
      "2024-11-18 00:00:00-05:00  174.955002  176.910004  174.419998  176.800003   \n",
      "2024-11-19 00:00:00-05:00  175.235001  180.169998  175.115997  179.580002   \n",
      "2024-11-20 00:00:00-05:00  178.830002  179.089996  175.330002  177.330002   \n",
      "\n",
      "                             Volume  \n",
      "Date                                 \n",
      "2023-11-21 00:00:00-05:00  17648100  \n",
      "2023-11-22 00:00:00-05:00  17306400  \n",
      "2023-11-24 00:00:00-05:00   8828600  \n",
      "2023-11-27 00:00:00-05:00  17886400  \n",
      "2023-11-28 00:00:00-05:00  17046900  \n",
      "...                             ...  \n",
      "2024-11-14 00:00:00-05:00  17925800  \n",
      "2024-11-15 00:00:00-05:00  21708900  \n",
      "2024-11-18 00:00:00-05:00  18725400  \n",
      "2024-11-19 00:00:00-05:00  15392900  \n",
      "2024-11-20 00:00:00-05:00  14881859  \n",
      "\n",
      "[252 rows x 5 columns]\n"
     ]
    }
   ],
   "source": [
    "import yfinance as yf\n",
    "def get_stock_data(ticker, period=\"1y\"):\n",
    "    stock = yf.Ticker(ticker)\n",
    "    df = stock.history(period=period)\n",
    "    df = df[['Open', 'High', 'Low', 'Close', 'Volume']].dropna()\n",
    "    return df\n",
    "\n",
    "\n",
    "data = get_stock_data('GOOG')\n",
    "print(data)\n"
   ]
  },
  {
   "cell_type": "code",
   "execution_count": 6,
   "metadata": {},
   "outputs": [],
   "source": [
    "# Instantiate the env\n",
    "bt = Backtest(data, periodicStrategy, cash=10000)\n",
    "env = CustomEnv(bt)\n",
    "# env = VecNormalize(env)"
   ]
  },
  {
   "cell_type": "code",
   "execution_count": 7,
   "metadata": {},
   "outputs": [],
   "source": [
    "model = PPO(\"MlpPolicy\", env, verbose=0, tensorboard_log=\"./logs/\")"
   ]
  },
  {
   "cell_type": "code",
   "execution_count": 8,
   "metadata": {},
   "outputs": [
    {
     "name": "stdout",
     "output_type": "stream",
     "text": [
      "Start with equity=10000.00\n",
      "Action=None Equity=10000.00 Date=2023-11-22 00:00:00-05:00\n",
      "Action=None Equity=10000.00 Date=2023-11-24 00:00:00-05:00\n",
      "Action=None Equity=10000.00 Date=2023-11-27 00:00:00-05:00\n",
      "Action=None Equity=10000.00 Date=2023-11-28 00:00:00-05:00\n",
      "Action=None Equity=10000.00 Date=2023-11-29 00:00:00-05:00\n",
      "Action=None Equity=10000.00 Date=2023-11-30 00:00:00-05:00\n",
      "Action=None Equity=10000.00 Date=2023-12-01 00:00:00-05:00\n",
      "Action=None Equity=10000.00 Date=2023-12-04 00:00:00-05:00\n",
      "Action=None Equity=10000.00 Date=2023-12-05 00:00:00-05:00\n",
      "Action=None Equity=10000.00 Date=2023-12-06 00:00:00-05:00\n",
      "Action=None Equity=10000.00 Date=2023-12-07 00:00:00-05:00\n",
      "Action=None Equity=10000.00 Date=2023-12-08 00:00:00-05:00\n",
      "Action=None Equity=10000.00 Date=2023-12-11 00:00:00-05:00\n",
      "Action=None Equity=10000.00 Date=2023-12-12 00:00:00-05:00\n",
      "Action=None Equity=10000.00 Date=2023-12-13 00:00:00-05:00\n",
      "Action=None Equity=10000.00 Date=2023-12-14 00:00:00-05:00\n",
      "Action=None Equity=10000.00 Date=2023-12-15 00:00:00-05:00\n",
      "Action=None Equity=10000.00 Date=2023-12-18 00:00:00-05:00\n",
      "Action=None Equity=10000.00 Date=2023-12-19 00:00:00-05:00\n"
     ]
    },
    {
     "data": {
      "text/plain": [
       "<stable_baselines3.ppo.ppo.PPO at 0x1bfcf3adb40>"
      ]
     },
     "execution_count": 8,
     "metadata": {},
     "output_type": "execute_result"
    }
   ],
   "source": [
    "# Define and Train the agent\n",
    "model.learn(total_timesteps=0)"
   ]
  },
  {
   "cell_type": "code",
   "execution_count": 9,
   "metadata": {},
   "outputs": [],
   "source": [
    "# Saving the model\n",
    "# model.save(\"ppo_aapl\")\n",
    "# model = PPO.load(\"ppo_aapl\", env=env) "
   ]
  }
 ],
 "metadata": {
  "kernelspec": {
   "display_name": "Python 3",
   "language": "python",
   "name": "python3"
  },
  "language_info": {
   "codemirror_mode": {
    "name": "ipython",
    "version": 3
   },
   "file_extension": ".py",
   "mimetype": "text/x-python",
   "name": "python",
   "nbconvert_exporter": "python",
   "pygments_lexer": "ipython3",
   "version": "3.10.6"
  }
 },
 "nbformat": 4,
 "nbformat_minor": 2
}
